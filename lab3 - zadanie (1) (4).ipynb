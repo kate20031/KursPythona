{
 "cells": [
  {
   "cell_type": "markdown",
   "metadata": {},
   "source": [
    "### Kilka uwag do zadania"
   ]
  },
  {
   "cell_type": "markdown",
   "metadata": {},
   "source": [
    "Wskazówka 1 - sortowanie"
   ]
  },
  {
   "cell_type": "code",
   "execution_count": 1,
   "metadata": {},
   "outputs": [
    {
     "data": {
      "text/plain": [
       "[1, 2, 3, 5, 7]"
      ]
     },
     "execution_count": 1,
     "metadata": {},
     "output_type": "execute_result"
    }
   ],
   "source": [
    "l = [2,3,7,5,1]\n",
    "sorted(l)"
   ]
  },
  {
   "cell_type": "markdown",
   "metadata": {},
   "source": [
    "Wskazówka 2 - wczytywanie"
   ]
  },
  {
   "cell_type": "code",
   "execution_count": 2,
   "metadata": {},
   "outputs": [
    {
     "name": "stdout",
     "output_type": "stream",
     "text": [
      "Podaj napis: Ala\n",
      "Twój napis to `Ala`\n"
     ]
    }
   ],
   "source": [
    "x = input(\"Podaj napis: \")\n",
    "print(\"Twój napis to `\" + x + \"`\")"
   ]
  },
  {
   "cell_type": "markdown",
   "metadata": {},
   "source": [
    "# Zadanie domowe:\n",
    "Zadanie: Śledzenie Spędzonego Czasu\n",
    "\n",
    "Stwórz program, który pozwala śledzić czas spędzony na różnych aktywnościach. Użyj słownika do przechowywania danych o aktywnościach oraz listy do śledzenia czasu spędzonego na każdej z nich. Program powinien mieć trzy główne funkcje:\n",
    "* Dodaj Aktywność: Użytkownik może dodać nową aktywność do śledzenia. Jeśli aktywność już istnieje, program powinien tylko zaktualizować ją o nowy czas. Struktura danych może wyglądać tak:\n",
    "    {\n",
    "    'Aktywność 1': [czas1, czas2, czas3, ...],\n",
    "    'Aktywność 2': [czas1, czas2, czas3, ...],\n",
    "    ...\n",
    "}\n",
    "* Pokaż Czas: Użytkownik może wybrać aktywność i zobaczyć, ile łącznie czasu spędził na niej.\n",
    "* Pokaż Top Aktywności: Program powinien pokazać top 3 aktywności, na których użytkownik spędził najwięcej czasu."
   ]
  },
  {
   "cell_type": "code",
   "execution_count": 58,
   "metadata": {},
   "outputs": [
    {
     "name": "stdout",
     "output_type": "stream",
     "text": [
      "football : [15, 17, 11] sum of time :  43\n",
      "tennis : [11] sum of time :  11\n",
      "hockey : [15, 5, 10] sum of time :  30\n",
      "volleyball : [50] sum of time :  50\n",
      "\n",
      " TOP: \n",
      "   ('volleyball', 50)\n",
      "   ('football', 43)\n",
      "   ('hockey', 30)\n",
      "\n",
      "\n"
     ]
    }
   ],
   "source": [
    "activity_and_time = {}\n",
    "act_and_sum_time = {}\n",
    "\n",
    "def add_activity(activity, time) :\n",
    "    if activity not in activity_and_time:\n",
    "        l = []\n",
    "        activity_and_time[activity] = l  \n",
    "        act_and_sum_time[activity] = 0\n",
    "        \n",
    "    activity_and_time[activity].append(time)\n",
    "    act_and_sum_time[activity] += time\n",
    "    \n",
    "def get_top():\n",
    "    sorted_dict = sorted(act_and_sum_time.items(), key=lambda x:x[1])\n",
    "    i = 0\n",
    "    \n",
    "    print(\"\\n\", \"TOP: \")\n",
    "    \n",
    "    for top_el in reversed(sorted_dict):\n",
    "        print(\"  \", top_el)\n",
    "        i += 1\n",
    "        if i == 3:\n",
    "            break\n",
    "            \n",
    "    print(\"\\n\")       \n",
    "    \n",
    "def get_time_of_activity(activity):\n",
    "    all_time = sum(activity_and_time[activity])\n",
    "    print(activity, \":\", activity_and_time[activity], \"sum of time : \", all_time)\n",
    "    \n",
    "add_activity('football', 15)\n",
    "add_activity('football', 17)\n",
    "add_activity('football', 11)\n",
    "add_activity('tennis', 11)\n",
    "add_activity('hockey', 15)\n",
    "add_activity('hockey', 5)\n",
    "add_activity('hockey', 10)\n",
    "add_activity('volleyball', 50)\n",
    "\n",
    "get_time_of_activity('football')\n",
    "get_time_of_activity('tennis')\n",
    "get_time_of_activity('hockey')\n",
    "get_time_of_activity('volleyball')\n",
    "get_top()"
   ]
  },
  {
   "cell_type": "code",
   "execution_count": null,
   "metadata": {},
   "outputs": [],
   "source": []
  },
  {
   "cell_type": "code",
   "execution_count": null,
   "metadata": {},
   "outputs": [],
   "source": []
  }
 ],
 "metadata": {
  "kernelspec": {
   "display_name": "Python 3 (ipykernel)",
   "language": "python",
   "name": "python3"
  },
  "language_info": {
   "codemirror_mode": {
    "name": "ipython",
    "version": 3
   },
   "file_extension": ".py",
   "mimetype": "text/x-python",
   "name": "python",
   "nbconvert_exporter": "python",
   "pygments_lexer": "ipython3",
   "version": "3.10.12"
  }
 },
 "nbformat": 4,
 "nbformat_minor": 2
}
